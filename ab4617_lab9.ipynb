{
  "cells": [
    {
      "cell_type": "markdown",
      "metadata": {
        "id": "gs_wOGI5yU1w"
      },
      "source": [
        "# OPAN5510 Lab Assignment - Joins\n",
        "\n",
        "This lab focuses on using Polars to perform data joins and aggregations to answer business questions."
      ]
    },
    {
      "cell_type": "markdown",
      "metadata": {
        "id": "1RC5vZJsyU1x"
      },
      "source": [
        "# Bike Trips Dataset\n",
        "\n",
        "## Prerequisites\n",
        "\n",
        "For this assignment, you'll need to use Polars for data manipulation.\n",
        "\n",
        "*Insert a code block to import necessary packages (polars)*"
      ]
    },
    {
      "cell_type": "code",
      "execution_count": 1,
      "metadata": {
        "id": "U6sEu6oqyU1x"
      },
      "outputs": [],
      "source": [
        "# Import necessary packages\n",
        "import polars as pl"
      ]
    },
    {
      "cell_type": "markdown",
      "metadata": {
        "id": "BcAhQENByU1x"
      },
      "source": [
        "## Load Datasets\n",
        "\n",
        "Load the `bike_trips.csv` and `bike_weather.csv` files into Polars DataFrames called `trips` and `weather`, respectively.\n",
        "\n",
        "*Insert code block that reads these files into Polars DataFrames*"
      ]
    },
    {
      "cell_type": "code",
      "execution_count": 5,
      "metadata": {
        "colab": {
          "base_uri": "https://localhost:8080/"
        },
        "id": "O1NJ_d1SyU1x",
        "outputId": "ce4e1100-fac5-410a-b385-7fabd99171e7"
      },
      "outputs": [
        {
          "output_type": "stream",
          "name": "stdout",
          "text": [
            "shape: (5, 12)\n",
            "┌──────┬──────────┬──────────────┬─────────────┬───┬─────────┬─────────────┬──────────┬────────────┐\n",
            "│ id   ┆ duration ┆ start_date   ┆ start_stati ┆ … ┆ bike_id ┆ subscriptio ┆ zip_code ┆ date       │\n",
            "│ ---  ┆ ---      ┆ ---          ┆ on_name     ┆   ┆ ---     ┆ n_type      ┆ ---      ┆ ---        │\n",
            "│ i64  ┆ i64      ┆ str          ┆ ---         ┆   ┆ i64     ┆ ---         ┆ i64      ┆ date       │\n",
            "│      ┆          ┆              ┆ str         ┆   ┆         ┆ str         ┆          ┆            │\n",
            "╞══════╪══════════╪══════════════╪═════════════╪═══╪═════════╪═════════════╪══════════╪════════════╡\n",
            "│ 4721 ┆ 3        ┆ 2013-08-29T2 ┆ Market at   ┆ … ┆ 416     ┆ Subscriber  ┆ 94107    ┆ 2013-08-29 │\n",
            "│      ┆          ┆ 0:27:00Z     ┆ 10th        ┆   ┆         ┆             ┆          ┆            │\n",
            "│ 4812 ┆ 3        ┆ 2013-08-29T2 ┆ 2nd at      ┆ … ┆ 409     ┆ Subscriber  ┆ 94107    ┆ 2013-08-29 │\n",
            "│      ┆          ┆ 1:30:00Z     ┆ Folsom      ┆   ┆         ┆             ┆          ┆            │\n",
            "│ 4705 ┆ 3        ┆ 2013-08-29T2 ┆ Golden Gate ┆ … ┆ 519     ┆ Subscriber  ┆ 94107    ┆ 2013-08-29 │\n",
            "│      ┆          ┆ 0:15:00Z     ┆ at Polk     ┆   ┆         ┆             ┆          ┆            │\n",
            "│ 4841 ┆ 3        ┆ 2013-08-29T2 ┆ University  ┆ … ┆ 83      ┆ Subscriber  ┆ 94107    ┆ 2013-08-29 │\n",
            "│      ┆          ┆ 1:48:00Z     ┆ and Emerson ┆   ┆         ┆             ┆          ┆            │\n",
            "│ 4668 ┆ 4        ┆ 2013-08-29T1 ┆ San         ┆ … ┆ 489     ┆ Subscriber  ┆ 94107    ┆ 2013-08-29 │\n",
            "│      ┆          ┆ 9:39:00Z     ┆ Francisco   ┆   ┆         ┆             ┆          ┆            │\n",
            "│      ┆          ┆              ┆ Caltrain 2  ┆   ┆         ┆             ┆          ┆            │\n",
            "│      ┆          ┆              ┆ (330 …      ┆   ┆         ┆             ┆          ┆            │\n",
            "└──────┴──────────┴──────────────┴─────────────┴───┴─────────┴─────────────┴──────────┴────────────┘\n",
            "shape: (5, 24)\n",
            "┌────────────┬────────────┬────────────┬───────────┬───┬───────────┬────────┬───────────┬──────────┐\n",
            "│ date       ┆ max_temper ┆ mean_tempe ┆ min_tempe ┆ … ┆ cloud_cov ┆ events ┆ wind_dir_ ┆ zip_code │\n",
            "│ ---        ┆ ature_f    ┆ rature_f   ┆ rature_f  ┆   ┆ er        ┆ ---    ┆ degrees   ┆ ---      │\n",
            "│ date       ┆ ---        ┆ ---        ┆ ---       ┆   ┆ ---       ┆ str    ┆ ---       ┆ i64      │\n",
            "│            ┆ i64        ┆ i64        ┆ i64       ┆   ┆ i64       ┆        ┆ i64       ┆          │\n",
            "╞════════════╪════════════╪════════════╪═══════════╪═══╪═══════════╪════════╪═══════════╪══════════╡\n",
            "│ 2013-08-29 ┆ 74         ┆ 68         ┆ 61        ┆ … ┆ 4         ┆ null   ┆ 286       ┆ 94107    │\n",
            "│ 2013-08-30 ┆ 78         ┆ 69         ┆ 60        ┆ … ┆ 2         ┆ null   ┆ 291       ┆ 94107    │\n",
            "│ 2013-08-31 ┆ 71         ┆ 64         ┆ 57        ┆ … ┆ 4         ┆ null   ┆ 284       ┆ 94107    │\n",
            "│ 2013-09-01 ┆ 74         ┆ 66         ┆ 58        ┆ … ┆ 4         ┆ null   ┆ 284       ┆ 94107    │\n",
            "│ 2013-09-02 ┆ 75         ┆ 69         ┆ 62        ┆ … ┆ 6         ┆ null   ┆ 277       ┆ 94107    │\n",
            "└────────────┴────────────┴────────────┴───────────┴───┴───────────┴────────┴───────────┴──────────┘\n"
          ]
        }
      ],
      "source": [
        "# Load the bike trips and weather data\n",
        "trips = pl.read_csv(\"https://raw.githubusercontent.com/philhetzel/opan5510-class9/refs/heads/main/data/bike_trips.csv\", null_values='NA')\n",
        "weather = pl.read_csv(\"https://raw.githubusercontent.com/philhetzel/opan5510-class9/refs/heads/main/data/bike_weather.csv\", null_values=['NA',''])\n",
        "\n",
        "trips = trips.with_columns(pl.col(\"date\").str.strptime(pl.Date, \"%Y-%m-%d\").alias(\"date\")) # ensure date column is typed correctly\n",
        "weather = weather.with_columns(pl.col(\"date\").str.strptime(pl.Date, \"%Y-%m-%d\").alias(\"date\")) # ensure date column is typed correctly\n",
        "print(trips.head())\n",
        "print(weather.head())"
      ]
    },
    {
      "cell_type": "markdown",
      "metadata": {
        "id": "R04JtG9EyU1x"
      },
      "source": [
        "## Business Question 1: What was the average `duration` of trips that occurred in rainy weather?\n",
        "\n",
        "#### Part A: Join the trips and weather data frames\n",
        "\n",
        "The `trips` data represent every ride taken for a bike share company. The `weather` data represent the prevailing weather for a particular day. Join the `trips` and `weather` data together using the `date` column. Name the resulting DataFrame `trips_weather`.\n",
        "\n",
        "*Insert a code block below that joins `trips` to `weather` using the `date` column.*"
      ]
    },
    {
      "cell_type": "code",
      "execution_count": 11,
      "metadata": {
        "id": "LMuv46gAyU1y",
        "outputId": "60d212c6-4fa0-47f3-8403-89b368d683b1",
        "colab": {
          "base_uri": "https://localhost:8080/"
        }
      },
      "outputs": [
        {
          "output_type": "stream",
          "name": "stdout",
          "text": [
            "Checking Primary Keys:\n",
            "Unique ids: 78704 (should equal 78704)\n",
            "Unique dates: 733 (should equal 733)\n",
            "\n",
            "Rows in result: 78704\n",
            "Original orders: 78704\n",
            "Lost rows: 0 \n",
            "\n",
            "Inner Join: shape: (78_704, 35)\n",
            "┌────────┬──────────┬─────────────┬────────────┬───┬────────────┬────────┬────────────┬────────────┐\n",
            "│ id     ┆ duration ┆ start_date  ┆ start_stat ┆ … ┆ cloud_cove ┆ events ┆ wind_dir_d ┆ zip_code_r │\n",
            "│ ---    ┆ ---      ┆ ---         ┆ ion_name   ┆   ┆ r          ┆ ---    ┆ egrees     ┆ ight       │\n",
            "│ i64    ┆ i64      ┆ str         ┆ ---        ┆   ┆ ---        ┆ str    ┆ ---        ┆ ---        │\n",
            "│        ┆          ┆             ┆ str        ┆   ┆ i64        ┆        ┆ i64        ┆ i64        │\n",
            "╞════════╪══════════╪═════════════╪════════════╪═══╪════════════╪════════╪════════════╪════════════╡\n",
            "│ 4721   ┆ 3        ┆ 2013-08-29T ┆ Market at  ┆ … ┆ 4          ┆ null   ┆ 286        ┆ 94107      │\n",
            "│        ┆          ┆ 20:27:00Z   ┆ 10th       ┆   ┆            ┆        ┆            ┆            │\n",
            "│ 4812   ┆ 3        ┆ 2013-08-29T ┆ 2nd at     ┆ … ┆ 4          ┆ null   ┆ 286        ┆ 94107      │\n",
            "│        ┆          ┆ 21:30:00Z   ┆ Folsom     ┆   ┆            ┆        ┆            ┆            │\n",
            "│ 4705   ┆ 3        ┆ 2013-08-29T ┆ Golden     ┆ … ┆ 4          ┆ null   ┆ 286        ┆ 94107      │\n",
            "│        ┆          ┆ 20:15:00Z   ┆ Gate at    ┆   ┆            ┆        ┆            ┆            │\n",
            "│        ┆          ┆             ┆ Polk       ┆   ┆            ┆        ┆            ┆            │\n",
            "│ 4841   ┆ 3        ┆ 2013-08-29T ┆ University ┆ … ┆ 4          ┆ null   ┆ 286        ┆ 94107      │\n",
            "│        ┆          ┆ 21:48:00Z   ┆ and        ┆   ┆            ┆        ┆            ┆            │\n",
            "│        ┆          ┆             ┆ Emerson    ┆   ┆            ┆        ┆            ┆            │\n",
            "│ 4668   ┆ 4        ┆ 2013-08-29T ┆ San        ┆ … ┆ 4          ┆ null   ┆ 286        ┆ 94107      │\n",
            "│        ┆          ┆ 19:39:00Z   ┆ Francisco  ┆   ┆            ┆        ┆            ┆            │\n",
            "│        ┆          ┆             ┆ Caltrain 2 ┆   ┆            ┆        ┆            ┆            │\n",
            "│        ┆          ┆             ┆ (330 …     ┆   ┆            ┆        ┆            ┆            │\n",
            "│ …      ┆ …        ┆ …           ┆ …          ┆ … ┆ …          ┆ …      ┆ …          ┆ …          │\n",
            "│ 433040 ┆ 3        ┆ 2014-09-01T ┆ Townsend   ┆ … ┆ 0          ┆ null   ┆ 290        ┆ 94107      │\n",
            "│        ┆          ┆ 14:43:00Z   ┆ at 7th     ┆   ┆            ┆        ┆            ┆            │\n",
            "│ 433035 ┆ 9        ┆ 2014-09-01T ┆ Powell     ┆ … ┆ 0          ┆ null   ┆ 290        ┆ 94107      │\n",
            "│        ┆          ┆ 14:37:00Z   ┆ Street     ┆   ┆            ┆        ┆            ┆            │\n",
            "│        ┆          ┆             ┆ BART       ┆   ┆            ┆        ┆            ┆            │\n",
            "│ 433030 ┆ 6        ┆ 2014-09-01T ┆ Powell     ┆ … ┆ 0          ┆ null   ┆ 290        ┆ 94107      │\n",
            "│        ┆          ┆ 14:31:00Z   ┆ Street     ┆   ┆            ┆        ┆            ┆            │\n",
            "│        ┆          ┆             ┆ BART       ┆   ┆            ┆        ┆            ┆            │\n",
            "│ 433004 ┆ 7        ┆ 2014-09-01T ┆ Steuart at ┆ … ┆ 0          ┆ null   ┆ 290        ┆ 94107      │\n",
            "│        ┆          ┆ 13:36:00Z   ┆ Market     ┆   ┆            ┆        ┆            ┆            │\n",
            "│ 432998 ┆ 6        ┆ 2014-09-01T ┆ Market at  ┆ … ┆ 0          ┆ null   ┆ 290        ┆ 94107      │\n",
            "│        ┆          ┆ 13:16:00Z   ┆ 10th       ┆   ┆            ┆        ┆            ┆            │\n",
            "└────────┴──────────┴─────────────┴────────────┴───┴────────────┴────────┴────────────┴────────────┘\n"
          ]
        }
      ],
      "source": [
        "print(\"Checking Primary Keys:\")\n",
        "print(f\"Unique ids: {trips['id'].n_unique()} (should equal {len(trips)})\")\n",
        "print(f\"Unique dates: {weather['date'].n_unique()} (should equal {len(weather)})\")\n",
        "\n",
        "trips_weather = trips.join(\n",
        "    weather,\n",
        "    on=\"date\",\n",
        "    how=\"inner\"\n",
        ")\n",
        "\n",
        "\n",
        "print(f\"\\nRows in result: {len(trips_weather)}\")\n",
        "print(f\"Original trips: {len(trips)}\")\n",
        "print(f\"Lost rows: {len(trips) - len(trips_weather)} \")\n",
        "print(\"\")\n",
        "print(\"Inner Join:\",trips_weather)\n",
        "\n",
        "\n"
      ]
    },
    {
      "cell_type": "markdown",
      "metadata": {
        "id": "jAmIh2v9yU1y"
      },
      "source": [
        "#### Part B: Calculate the average `duration` of trips in poor weather\n",
        "\n",
        "Using the `trips_weather` DataFrame, compute the average trip `duration` for days that had weather `events` (i.e. anytime a day had an event of anything but `null`). Name the column for average `duration`: `avg_duration`. The resulting DataFrame should have one row and be named `avg_bad_weather`.\n",
        "\n",
        "*Insert a code block that shows the computation of the average trip duration for days that had a weather event.*"
      ]
    },
    {
      "cell_type": "code",
      "execution_count": 13,
      "metadata": {
        "id": "GfK-KPe2yU1y",
        "outputId": "b70544fa-ef30-44cb-b7f1-233030be460b",
        "colab": {
          "base_uri": "https://localhost:8080/"
        }
      },
      "outputs": [
        {
          "output_type": "stream",
          "name": "stdout",
          "text": [
            "shape: (1, 1)\n",
            "┌──────────────┐\n",
            "│ avg_duration │\n",
            "│ ---          │\n",
            "│ f64          │\n",
            "╞══════════════╡\n",
            "│ 10.34899     │\n",
            "└──────────────┘\n"
          ]
        }
      ],
      "source": [
        "avg_bad_weather = (\n",
        "    trips_weather\n",
        "    .filter(pl.col(\"events\").is_not_null())\n",
        "    .select(pl.col(\"duration\").mean().alias(\"avg_duration\"))\n",
        ")\n",
        "\n",
        "print(avg_bad_weather)\n"
      ]
    },
    {
      "cell_type": "markdown",
      "metadata": {
        "id": "r1HZVy2qyU1y"
      },
      "source": [
        "# Baseball Dataset\n",
        "\n",
        "## Load Data\n",
        "\n",
        "Load the `Batting.csv`, `People.csv`, and `HallOfFame.csv` datasets into Polars DataFrames.\n",
        "\n",
        "*Insert a code block to load your datasets*"
      ]
    },
    {
      "cell_type": "code",
      "execution_count": 14,
      "metadata": {
        "id": "qrZO72DTyU1y"
      },
      "outputs": [],
      "source": [
        "# Load baseball datasets\n",
        "Batting = pl.read_csv(\"https://raw.githubusercontent.com/philhetzel/opan5510-class9/refs/heads/main/data/Batting.csv\", null_values='NA')\n",
        "People = pl.read_csv(\"https://raw.githubusercontent.com/philhetzel/opan5510-class9/refs/heads/main/data/People.csv\", null_values='NA')\n",
        "HallOfFame = pl.read_csv(\"https://raw.githubusercontent.com/philhetzel/opan5510-class9/refs/heads/main/data/HallOfFame.csv\", null_values='NA')\n"
      ]
    },
    {
      "cell_type": "markdown",
      "metadata": {
        "id": "M9wo7SwoyU1y"
      },
      "source": [
        "## Question 2: How many home runs (`HR`) were hit by players born in Florida?\n",
        "\n",
        "#### Part A: Join the `Batting` and `People` DataFrames together\n",
        "\n",
        "In order to answer this question, you'll need to use the `Batting` and `People` DataFrames. The `Batting` DataFrame has hitting statistics for every season that an individual player has played. The `People` DataFrame represents biographical data about every professional baseball player.\n",
        "\n",
        "Join the `People` DataFrame into the `Batting` DataFrame so that we can perform analysis on batting statistics using columns from the `People` DataFrame. Name the new DataFrame `stats_w_bio`.\n",
        "\n",
        "*Insert a code block that joins the `Batting` DataFrame to the `People` DataFrame.*"
      ]
    },
    {
      "cell_type": "code",
      "execution_count": 17,
      "metadata": {
        "id": "BOYs3snEyU1y",
        "outputId": "f59df74d-2ef8-40d6-e631-06264d4b2c0c",
        "colab": {
          "base_uri": "https://localhost:8080/"
        }
      },
      "outputs": [
        {
          "output_type": "stream",
          "name": "stdout",
          "text": [
            "shape: (100, 47)\n",
            "┌───────────┬────────┬───────┬────────┬───┬──────────┬───────────┬────────────┬────────────┐\n",
            "│ playerID  ┆ yearID ┆ stint ┆ teamID ┆ … ┆ retroID  ┆ bbrefID   ┆ deathDate  ┆ birthDate  │\n",
            "│ ---       ┆ ---    ┆ ---   ┆ ---    ┆   ┆ ---      ┆ ---       ┆ ---        ┆ ---        │\n",
            "│ str       ┆ i64    ┆ i64   ┆ str    ┆   ┆ str      ┆ str       ┆ str        ┆ str        │\n",
            "╞═══════════╪════════╪═══════╪════════╪═══╪══════════╪═══════════╪════════════╪════════════╡\n",
            "│ abercda01 ┆ 1871   ┆ 1     ┆ TRO    ┆ … ┆ aberd101 ┆ abercda01 ┆ 1939-11-11 ┆ 1850-01-02 │\n",
            "│ addybo01  ┆ 1871   ┆ 1     ┆ RC1    ┆ … ┆ addyb101 ┆ addybo01  ┆ 1910-04-09 ┆ null       │\n",
            "│ allisar01 ┆ 1871   ┆ 1     ┆ CL1    ┆ … ┆ allia101 ┆ allisar01 ┆ 1916-02-25 ┆ 1849-01-29 │\n",
            "│ allisdo01 ┆ 1871   ┆ 1     ┆ WS3    ┆ … ┆ allid101 ┆ allisdo01 ┆ 1916-12-19 ┆ 1846-07-12 │\n",
            "│ ansonca01 ┆ 1871   ┆ 1     ┆ RC1    ┆ … ┆ ansoc101 ┆ ansonca01 ┆ 1922-04-14 ┆ 1852-04-17 │\n",
            "│ …         ┆ …      ┆ …     ┆ …      ┆ … ┆ …        ┆ …         ┆ …          ┆ …          │\n",
            "│ senseco01 ┆ 1871   ┆ 1     ┆ PH1    ┆ … ┆ sensc101 ┆ senseco01 ┆ 1903-05-03 ┆ 1847-12-28 │\n",
            "│ simmojo01 ┆ 1871   ┆ 1     ┆ CH1    ┆ … ┆ simmj101 ┆ simmojo01 ┆ 1901-07-24 ┆ 1845-06-13 │\n",
            "│ smithch01 ┆ 1871   ┆ 1     ┆ NY2    ┆ … ┆ smitc106 ┆ smithch01 ┆ 1897-11-15 ┆ 1840-12-11 │\n",
            "│ spaldal01 ┆ 1871   ┆ 1     ┆ BS1    ┆ … ┆ spala101 ┆ spaldal01 ┆ 1915-09-09 ┆ 1850-09-02 │\n",
            "│ startjo01 ┆ 1871   ┆ 1     ┆ NY2    ┆ … ┆ starj101 ┆ startjo01 ┆ 1927-03-27 ┆ 1842-10-14 │\n",
            "└───────────┴────────┴───────┴────────┴───┴──────────┴───────────┴────────────┴────────────┘\n"
          ]
        }
      ],
      "source": [
        "import polars as pl\n",
        "\n",
        "stats_w_bio = Batting.join(\n",
        "    People,\n",
        "    on=\"playerID\",\n",
        "    how=\"left\"\n",
        ")\n",
        "print(stats_w_bio.head(100))\n"
      ]
    },
    {
      "cell_type": "markdown",
      "metadata": {
        "id": "Pr63NEFcyU1y"
      },
      "source": [
        "#### Part B: Calculate the total number of home runs that were hit by Florida-born players\n",
        "\n",
        "You would like to perform an analysis about how many home runs (`HR`) were hit by players that were born in the `birthState` of Florida (`FL`). Using the new `stats_w_bio` DataFrame that combines batting statistics with biographical information, compute the total number of home runs (`HR`) hit by players who were born (`birthState`) in Florida (`FL`) and name the new column `total_hr`. The DataFrame should have one row and be named `florida_hr`.\n",
        "\n",
        "*Insert a block of code that shows the computation of total home runs hit by players born in Florida. The output of this code block should be a DataFrame.*"
      ]
    },
    {
      "cell_type": "code",
      "execution_count": 18,
      "metadata": {
        "id": "bBGsxFDUyU1y",
        "outputId": "edf40f9c-821f-4305-fdc8-64f390b80a98",
        "colab": {
          "base_uri": "https://localhost:8080/"
        }
      },
      "outputs": [
        {
          "output_type": "stream",
          "name": "stdout",
          "text": [
            "shape: (1, 1)\n",
            "┌──────────┐\n",
            "│ total_hr │\n",
            "│ ---      │\n",
            "│ i64      │\n",
            "╞══════════╡\n",
            "│ 16225    │\n",
            "└──────────┘\n"
          ]
        }
      ],
      "source": [
        "import polars as pl\n",
        "\n",
        "florida_hr = (\n",
        "    stats_w_bio\n",
        "    .filter(pl.col(\"birthState\") == \"FL\")\n",
        "    .select(pl.col(\"HR\").sum().alias(\"total_hr\"))\n",
        ")\n",
        "\n",
        "print(florida_hr)\n",
        "\n"
      ]
    },
    {
      "cell_type": "markdown",
      "metadata": {
        "id": "d5v5qjkayU1y"
      },
      "source": [
        "## Question 3: What are the average number of career Hits (`H`) for Hall of Fame baseball players?\n",
        "\n",
        "#### Part A: Clean the `HallOfFame` DataFrame\n",
        "\n",
        "You would like to perform an analysis on the batting statistics of Hall of Fame baseball players. In order to answer this question, you'll need to use the `Batting` and `HallOfFame` DataFrames.\n",
        "\n",
        "The first thing that you have to do to perform this analysis is to join the `HallOfFame` data into the `Batting` data to understand which players are \"Hall of Famers\". To join the data correctly, we have to ensure that the `playerID` field is unique in `HallOfFame`. Not every player in the `HallOfFame` DataFrame is a Hall of Famer; their `inducted` field must have the value of `Y` and their `category` field should have the value of `Player`. Name the new DataFrame `hall_inducted`.\n",
        "\n",
        "*Insert a code block to transform the `HallOfFame` DataFrame to ensure that `playerID` is unique.*"
      ]
    },
    {
      "cell_type": "code",
      "execution_count": 19,
      "metadata": {
        "id": "P0lc9qLPyU1y",
        "outputId": "8a5fd688-4ed6-4917-ac5e-4a1a76b5b6fe",
        "colab": {
          "base_uri": "https://localhost:8080/"
        }
      },
      "outputs": [
        {
          "output_type": "stream",
          "name": "stdout",
          "text": [
            "shape: (270, 1)\n",
            "┌───────────┐\n",
            "│ playerID  │\n",
            "│ ---       │\n",
            "│ str       │\n",
            "╞═══════════╡\n",
            "│ wheatza01 │\n",
            "│ roberro01 │\n",
            "│ bendech01 │\n",
            "│ hunteca01 │\n",
            "│ galvipu01 │\n",
            "│ …         │\n",
            "│ mccovwi01 │\n",
            "│ mathech01 │\n",
            "│ ruthba01  │\n",
            "│ santoro01 │\n",
            "│ hallaro01 │\n",
            "└───────────┘\n"
          ]
        }
      ],
      "source": [
        "import polars as pl\n",
        "\n",
        "hall_inducted = (\n",
        "    HallOfFame\n",
        "    .filter(\n",
        "        (pl.col(\"inducted\") == \"Y\") &\n",
        "        (pl.col(\"category\") == \"Player\")\n",
        "    )\n",
        "    .select([\"playerID\"])\n",
        "    .unique()\n",
        ")\n",
        "\n",
        "print(hall_inducted)\n"
      ]
    },
    {
      "cell_type": "markdown",
      "metadata": {
        "id": "A6z9HFdjyU1y"
      },
      "source": [
        "#### Part B: Find the average number of career hits across Hall of Fame players\n",
        "\n",
        "Join the `hall_inducted` data into the `Batting` data by `playerID`. Aggregate the data to compute the average total hits (`H`) across all Hall of Fame players. To do this, you will first need to calculate the total number of hits for each player and then calculate the average hits across all players. Call the new column `average_hits`. The resulting DataFrame should have one row and be named `hof_hits`.\n",
        "\n",
        "*Insert a code block that joins the `Batting` and the `hall_inducted` data together and then calculates the average number of career hits (`H`) across all Hall of Fame players. The output of this code block should be a DataFrame.*"
      ]
    },
    {
      "cell_type": "code",
      "execution_count": 20,
      "metadata": {
        "id": "JzWY4cVbyU1y",
        "outputId": "7c5101a3-dc0e-4c82-8c2b-538988c80fa8",
        "colab": {
          "base_uri": "https://localhost:8080/"
        }
      },
      "outputs": [
        {
          "output_type": "stream",
          "name": "stdout",
          "text": [
            "shape: (1, 1)\n",
            "┌──────────────┐\n",
            "│ average_hits │\n",
            "│ ---          │\n",
            "│ f64          │\n",
            "╞══════════════╡\n",
            "│ 1717.29918   │\n",
            "└──────────────┘\n"
          ]
        }
      ],
      "source": [
        "import polars as pl\n",
        "\n",
        "hof_total_hits = (\n",
        "    Batting.join(hall_inducted, on=\"playerID\", how=\"inner\")\n",
        "           .group_by(\"playerID\")\n",
        "           .agg(pl.col(\"H\").sum().alias(\"total_hits\"))\n",
        ")\n",
        "\n",
        "hof_hits = hof_total_hits.select(\n",
        "    pl.col(\"total_hits\").mean().alias(\"average_hits\")\n",
        ")\n",
        "\n",
        "print(hof_hits)\n",
        "\n"
      ]
    }
  ],
  "metadata": {
    "kernelspec": {
      "display_name": "Python 3",
      "language": "python",
      "name": "python3"
    },
    "language_info": {
      "codemirror_mode": {
        "name": "ipython",
        "version": 3
      },
      "file_extension": ".py",
      "mimetype": "text/x-python",
      "name": "python",
      "nbconvert_exporter": "python",
      "pygments_lexer": "ipython3",
      "version": "3.12.0"
    },
    "colab": {
      "provenance": []
    }
  },
  "nbformat": 4,
  "nbformat_minor": 0
}